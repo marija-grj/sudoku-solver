{
 "cells": [
  {
   "cell_type": "markdown",
   "metadata": {},
   "source": [
    "# Sudoku"
   ]
  },
  {
   "cell_type": "code",
   "execution_count": 51,
   "metadata": {},
   "outputs": [],
   "source": [
    "import numpy as np\n",
    "import copy"
   ]
  },
  {
   "cell_type": "code",
   "execution_count": 92,
   "metadata": {},
   "outputs": [],
   "source": [
    "def draw(grid):\n",
    "    for i,row in enumerate(grid):\n",
    "        for j,e in enumerate(row):\n",
    "            if len(e) > 0:\n",
    "                print(e[0], end=\" \")\n",
    "            else:\n",
    "                print(\"·\", end=\" \")\n",
    "            if j==8:\n",
    "                print(\"\")\n",
    "            elif (j==2) | (j==5):\n",
    "                print(\"│\", end=\" \")\n",
    "        if (i==2) | (i==5):\n",
    "            print(\"──────┼───────┼───────\")"
   ]
  },
  {
   "cell_type": "code",
   "execution_count": 55,
   "metadata": {},
   "outputs": [
    {
     "data": {
      "text/plain": [
       "[[[], [], [], [], [], [], [], [], []],\n",
       " [[], [], [], [], [], [], [], [], []],\n",
       " [[], [], [], [], [], [], [], [], []],\n",
       " [[], [], [], [], [], [], [], [], []],\n",
       " [[], [], [], [], [], [], [], [], []],\n",
       " [[], [], [], [], [], [], [], [], []],\n",
       " [[], [], [], [], [], [], [], [], []],\n",
       " [[], [], [], [], [], [], [], [], []],\n",
       " [[], [], [], [], [], [], [], [], []]]"
      ]
     },
     "execution_count": 55,
     "metadata": {},
     "output_type": "execute_result"
    }
   ],
   "source": [
    "empty_grid = [[[] for i in range(9)] for j in range(9)]\n",
    "empty_grid"
   ]
  },
  {
   "cell_type": "code",
   "execution_count": 93,
   "metadata": {},
   "outputs": [
    {
     "name": "stdout",
     "output_type": "stream",
     "text": [
      "· · · │ · · · │ · · · \n",
      "· · · │ · · · │ · · · \n",
      "· · · │ · · · │ · · · \n",
      "──────┼───────┼───────\n",
      "· · · │ · · · │ · · · \n",
      "· · · │ · · · │ · · · \n",
      "· · · │ · · · │ · · · \n",
      "──────┼───────┼───────\n",
      "· · · │ · · · │ · · · \n",
      "· · · │ · · · │ · · · \n",
      "· · · │ · · · │ · · · \n"
     ]
    }
   ],
   "source": [
    "draw(empty_grid)"
   ]
  },
  {
   "cell_type": "code",
   "execution_count": 59,
   "metadata": {},
   "outputs": [
    {
     "data": {
      "text/plain": [
       "[[[5], [3], [], [], [7], [], [], [], []],\n",
       " [[6], [], [], [1], [9], [5], [], [], []],\n",
       " [[], [9], [8], [], [], [], [], [6], []],\n",
       " [[8], [], [], [], [6], [], [], [], [3]],\n",
       " [[4], [], [], [8], [], [3], [], [], [1]],\n",
       " [[7], [], [], [], [2], [], [], [], [6]],\n",
       " [[], [6], [], [], [], [], [2], [8], []],\n",
       " [[], [], [], [4], [1], [9], [], [], [5]],\n",
       " [[], [], [], [], [8], [], [], [7], [9]]]"
      ]
     },
     "execution_count": 59,
     "metadata": {},
     "output_type": "execute_result"
    }
   ],
   "source": [
    "grid1 = copy.deepcopy(empty_grid)\n",
    "grid1[0][0].append(5)\n",
    "grid1[0][1].append(3)\n",
    "grid1[0][4].append(7)\n",
    "grid1[1][0].append(6)\n",
    "grid1[1][3].append(1)\n",
    "grid1[1][4].append(9)\n",
    "grid1[1][5].append(5)\n",
    "grid1[2][1].append(9)\n",
    "grid1[2][2].append(8)\n",
    "grid1[2][7].append(6)\n",
    "grid1[3][0].append(8)\n",
    "grid1[3][4].append(6)\n",
    "grid1[3][8].append(3)\n",
    "grid1[4][0].append(4)\n",
    "grid1[4][3].append(8)\n",
    "grid1[4][5].append(3)\n",
    "grid1[4][8].append(1)\n",
    "grid1[5][0].append(7)\n",
    "grid1[5][4].append(2)\n",
    "grid1[5][8].append(6)\n",
    "grid1[6][1].append(6)\n",
    "grid1[6][6].append(2)\n",
    "grid1[6][7].append(8)\n",
    "grid1[7][3].append(4)\n",
    "grid1[7][4].append(1)\n",
    "grid1[7][5].append(9)\n",
    "grid1[7][8].append(5)\n",
    "grid1[8][4].append(8)\n",
    "grid1[8][7].append(7)\n",
    "grid1[8][8].append(9)\n",
    "grid1"
   ]
  },
  {
   "cell_type": "code",
   "execution_count": 94,
   "metadata": {},
   "outputs": [
    {
     "name": "stdout",
     "output_type": "stream",
     "text": [
      "5 3 · │ · 7 · │ · · · \n",
      "6 · · │ 1 9 5 │ · · · \n",
      "· 9 8 │ · · · │ · 6 · \n",
      "──────┼───────┼───────\n",
      "8 · · │ · 6 · │ · · 3 \n",
      "4 · · │ 8 · 3 │ · · 1 \n",
      "7 · · │ · 2 · │ · · 6 \n",
      "──────┼───────┼───────\n",
      "· 6 · │ · · · │ 2 8 · \n",
      "· · · │ 4 1 9 │ · · 5 \n",
      "· · · │ · 8 · │ · 7 9 \n"
     ]
    }
   ],
   "source": [
    "draw(grid1)"
   ]
  },
  {
   "cell_type": "code",
   "execution_count": 104,
   "metadata": {},
   "outputs": [],
   "source": [
    "def fit_row(grid, row_num):\n",
    "    row_values = [item for sublist in grid[row_num] for item in sublist]\n",
    "    all_values = [1,2,3,4,5,6,7,8,9]\n",
    "    return(list(set(all_values)-set(row_values)))"
   ]
  },
  {
   "cell_type": "code",
   "execution_count": 106,
   "metadata": {},
   "outputs": [
    {
     "data": {
      "text/plain": [
       "[2, 3, 4, 7, 8]"
      ]
     },
     "execution_count": 106,
     "metadata": {},
     "output_type": "execute_result"
    }
   ],
   "source": [
    "fit_row(grid1,1)"
   ]
  },
  {
   "cell_type": "code",
   "execution_count": null,
   "metadata": {},
   "outputs": [],
   "source": []
  }
 ],
 "metadata": {
  "kernelspec": {
   "display_name": "Python 3",
   "language": "python",
   "name": "python3"
  },
  "language_info": {
   "codemirror_mode": {
    "name": "ipython",
    "version": 3
   },
   "file_extension": ".py",
   "mimetype": "text/x-python",
   "name": "python",
   "nbconvert_exporter": "python",
   "pygments_lexer": "ipython3",
   "version": "3.8.5"
  }
 },
 "nbformat": 4,
 "nbformat_minor": 4
}
