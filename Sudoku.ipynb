{
 "cells": [
  {
   "cell_type": "markdown",
   "metadata": {},
   "source": [
    "# Sudoku"
   ]
  },
  {
   "cell_type": "code",
   "execution_count": 1,
   "metadata": {},
   "outputs": [],
   "source": [
    "import numpy as np\n",
    "import copy"
   ]
  },
  {
   "cell_type": "code",
   "execution_count": 2,
   "metadata": {},
   "outputs": [],
   "source": [
    "def draw(grid):\n",
    "    for i,row in enumerate(grid):\n",
    "        for j,e in enumerate(row):\n",
    "            if len(e) > 0:\n",
    "                print(e[0], end=\" \")\n",
    "            else:\n",
    "                print(\"·\", end=\" \")\n",
    "            if j==8:\n",
    "                print(\"\")\n",
    "            elif (j==2) | (j==5):\n",
    "                print(\"│\", end=\" \")\n",
    "        if (i==2) | (i==5):\n",
    "            print(\"──────┼───────┼───────\")"
   ]
  },
  {
   "cell_type": "code",
   "execution_count": 3,
   "metadata": {},
   "outputs": [
    {
     "data": {
      "text/plain": [
       "[[[], [], [], [], [], [], [], [], []],\n",
       " [[], [], [], [], [], [], [], [], []],\n",
       " [[], [], [], [], [], [], [], [], []],\n",
       " [[], [], [], [], [], [], [], [], []],\n",
       " [[], [], [], [], [], [], [], [], []],\n",
       " [[], [], [], [], [], [], [], [], []],\n",
       " [[], [], [], [], [], [], [], [], []],\n",
       " [[], [], [], [], [], [], [], [], []],\n",
       " [[], [], [], [], [], [], [], [], []]]"
      ]
     },
     "execution_count": 3,
     "metadata": {},
     "output_type": "execute_result"
    }
   ],
   "source": [
    "empty_grid = [[[] for i in range(9)] for j in range(9)]\n",
    "empty_grid"
   ]
  },
  {
   "cell_type": "code",
   "execution_count": 4,
   "metadata": {},
   "outputs": [
    {
     "name": "stdout",
     "output_type": "stream",
     "text": [
      "· · · │ · · · │ · · · \n",
      "· · · │ · · · │ · · · \n",
      "· · · │ · · · │ · · · \n",
      "──────┼───────┼───────\n",
      "· · · │ · · · │ · · · \n",
      "· · · │ · · · │ · · · \n",
      "· · · │ · · · │ · · · \n",
      "──────┼───────┼───────\n",
      "· · · │ · · · │ · · · \n",
      "· · · │ · · · │ · · · \n",
      "· · · │ · · · │ · · · \n"
     ]
    }
   ],
   "source": [
    "draw(empty_grid)"
   ]
  },
  {
   "cell_type": "code",
   "execution_count": 5,
   "metadata": {},
   "outputs": [
    {
     "data": {
      "text/plain": [
       "[[[5], [3], [], [], [7], [], [], [], []],\n",
       " [[6], [], [], [1], [9], [5], [], [], []],\n",
       " [[], [9], [8], [], [], [], [], [6], []],\n",
       " [[8], [], [], [], [6], [], [], [], [3]],\n",
       " [[4], [], [], [8], [], [3], [], [], [1]],\n",
       " [[7], [], [], [], [2], [], [], [], [6]],\n",
       " [[], [6], [], [], [], [], [2], [8], []],\n",
       " [[], [], [], [4], [1], [9], [], [], [5]],\n",
       " [[], [], [], [], [8], [], [], [7], [9]]]"
      ]
     },
     "execution_count": 5,
     "metadata": {},
     "output_type": "execute_result"
    }
   ],
   "source": [
    "grid1 = copy.deepcopy(empty_grid)\n",
    "grid1[0][0].append(5)\n",
    "grid1[0][1].append(3)\n",
    "grid1[0][4].append(7)\n",
    "grid1[1][0].append(6)\n",
    "grid1[1][3].append(1)\n",
    "grid1[1][4].append(9)\n",
    "grid1[1][5].append(5)\n",
    "grid1[2][1].append(9)\n",
    "grid1[2][2].append(8)\n",
    "grid1[2][7].append(6)\n",
    "grid1[3][0].append(8)\n",
    "grid1[3][4].append(6)\n",
    "grid1[3][8].append(3)\n",
    "grid1[4][0].append(4)\n",
    "grid1[4][3].append(8)\n",
    "grid1[4][5].append(3)\n",
    "grid1[4][8].append(1)\n",
    "grid1[5][0].append(7)\n",
    "grid1[5][4].append(2)\n",
    "grid1[5][8].append(6)\n",
    "grid1[6][1].append(6)\n",
    "grid1[6][6].append(2)\n",
    "grid1[6][7].append(8)\n",
    "grid1[7][3].append(4)\n",
    "grid1[7][4].append(1)\n",
    "grid1[7][5].append(9)\n",
    "grid1[7][8].append(5)\n",
    "grid1[8][4].append(8)\n",
    "grid1[8][7].append(7)\n",
    "grid1[8][8].append(9)\n",
    "grid1"
   ]
  },
  {
   "cell_type": "code",
   "execution_count": 6,
   "metadata": {},
   "outputs": [
    {
     "name": "stdout",
     "output_type": "stream",
     "text": [
      "5 3 · │ · 7 · │ · · · \n",
      "6 · · │ 1 9 5 │ · · · \n",
      "· 9 8 │ · · · │ · 6 · \n",
      "──────┼───────┼───────\n",
      "8 · · │ · 6 · │ · · 3 \n",
      "4 · · │ 8 · 3 │ · · 1 \n",
      "7 · · │ · 2 · │ · · 6 \n",
      "──────┼───────┼───────\n",
      "· 6 · │ · · · │ 2 8 · \n",
      "· · · │ 4 1 9 │ · · 5 \n",
      "· · · │ · 8 · │ · 7 9 \n"
     ]
    }
   ],
   "source": [
    "draw(grid1)"
   ]
  },
  {
   "cell_type": "code",
   "execution_count": 7,
   "metadata": {},
   "outputs": [],
   "source": [
    "def fit_row(grid, row_num):\n",
    "    \"\"\"Function takes \n",
    "    - grid: sudoku matrix (list of lists)\n",
    "    - row_num: row number (integer between 1 and 9)\n",
    "    and returns a set of available values for a given row\"\"\"\n",
    "    \n",
    "    if row_num not in range(1,10):\n",
    "        raise ValueError(\"Wrong row value. Only values from 1 to 9 are accepted.\")\n",
    "    \n",
    "    row_num -= 1\n",
    "    row = grid[row_num]\n",
    "    values = [item for sublist in row for item in sublist]\n",
    "    all_values = [1,2,3,4,5,6,7,8,9]\n",
    "    return(set(all_values)-set(values))"
   ]
  },
  {
   "cell_type": "code",
   "execution_count": 8,
   "metadata": {},
   "outputs": [
    {
     "data": {
      "text/plain": [
       "{2, 5, 6, 7, 9}"
      ]
     },
     "execution_count": 8,
     "metadata": {},
     "output_type": "execute_result"
    }
   ],
   "source": [
    "fit_row(grid1,5)"
   ]
  },
  {
   "cell_type": "code",
   "execution_count": 9,
   "metadata": {},
   "outputs": [],
   "source": [
    "def fit_column(grid, col_num):\n",
    "    \"\"\"Function takes \n",
    "    - grid: sudoku matrix (list of lists)\n",
    "    - col_num: column number (integer between 1 and 9)\n",
    "    and returns a set of available values for a given column\"\"\"\n",
    "    \n",
    "    if col_num not in range(1,10):\n",
    "        raise ValueError(\"Wrong column value. Only values from 1 to 9 are accepted.\")\n",
    "    \n",
    "    col_num -= 1\n",
    "    column = [row[col_num] for row in grid]\n",
    "    values = [item for sublist in column for item in sublist]\n",
    "    all_values = [1,2,3,4,5,6,7,8,9]\n",
    "    return(set(all_values)-set(values))"
   ]
  },
  {
   "cell_type": "code",
   "execution_count": 10,
   "metadata": {},
   "outputs": [
    {
     "data": {
      "text/plain": [
       "{3, 4, 5}"
      ]
     },
     "execution_count": 10,
     "metadata": {},
     "output_type": "execute_result"
    }
   ],
   "source": [
    "fit_column(grid1,5)"
   ]
  },
  {
   "cell_type": "code",
   "execution_count": 11,
   "metadata": {},
   "outputs": [],
   "source": [
    "def fit_box(grid, row_num, col_num):\n",
    "    \"\"\"Function takes \n",
    "    - grid: sudoku matrix (list of lists)\n",
    "    - row_num: row number of a cell (integer between 1 and 9)\n",
    "    - col_num: column number of a cell (integer between 1 and 9)\n",
    "    and returns a set of available values for a 3x3 box that corresponds to a given cell\"\"\"\n",
    "    \n",
    "    if row_num not in range(1,10):\n",
    "        raise ValueError(\"Wrong row value. Only values from 1 to 9 are accepted.\")\n",
    "    elif col_num not in range(1,10):\n",
    "        raise ValueError(\"Wrong column value. Only values from 1 to 9 are accepted.\")\n",
    "    \n",
    "    row_num -= 1\n",
    "    col_num -= 1\n",
    "    box_row = grid[3*(row_num//3):3*(row_num//3)+3]                  # gets a row of 3 boxes\n",
    "    box = [row[3*(col_num//3):3*(col_num//3)+3] for row in box_row]  # gets one box\n",
    "    box_inline = [item for sublist in box for item in sublist]       # flatten box values\n",
    "    values = [item for sublist in box_inline for item in sublist]\n",
    "    all_values = [1,2,3,4,5,6,7,8,9]\n",
    "    return(set(all_values)-set(values))"
   ]
  },
  {
   "cell_type": "code",
   "execution_count": 12,
   "metadata": {},
   "outputs": [
    {
     "data": {
      "text/plain": [
       "{1, 4, 5, 7, 9}"
      ]
     },
     "execution_count": 12,
     "metadata": {},
     "output_type": "execute_result"
    }
   ],
   "source": [
    "fit_box(grid1,5,5)"
   ]
  },
  {
   "cell_type": "code",
   "execution_count": 13,
   "metadata": {},
   "outputs": [],
   "source": [
    "def fit(grid, row_num, col_num):\n",
    "    \"\"\"Function takes \n",
    "    - grid: sudoku matrix (list of lists)\n",
    "    - row_num: row number of a cell (integer between 1 and 9)\n",
    "    - col_num: column number of a cell (integer between 1 and 9)\n",
    "    and returns a list of possible values for a given cell\"\"\"\n",
    "    \n",
    "    if row_num not in range(1,10):\n",
    "        raise ValueError(\"Wrong row value. Only values from 1 to 9 are accepted.\")\n",
    "    elif col_num not in range(1,10):\n",
    "        raise ValueError(\"Wrong column value. Only values from 1 to 9 are accepted.\")\n",
    "        \n",
    "    if len(grid[row_num-1][col_num-1]) == 1:\n",
    "        return grid[row_num-1][col_num-1]\n",
    "    else:\n",
    "        return list(set.intersection(fit_row(grid, row_num),\n",
    "                                     fit_column(grid, col_num),\n",
    "                                     fit_box(grid, row_num, col_num)))"
   ]
  },
  {
   "cell_type": "code",
   "execution_count": 14,
   "metadata": {},
   "outputs": [
    {
     "data": {
      "text/plain": [
       "[5]"
      ]
     },
     "execution_count": 14,
     "metadata": {},
     "output_type": "execute_result"
    }
   ],
   "source": [
    "fit(grid1, 5, 5)"
   ]
  },
  {
   "cell_type": "code",
   "execution_count": 15,
   "metadata": {},
   "outputs": [
    {
     "name": "stdout",
     "output_type": "stream",
     "text": [
      "5 3 · │ · 7 · │ · · · \n",
      "6 · · │ 1 9 5 │ · · · \n",
      "· 9 8 │ · · · │ · 6 · \n",
      "──────┼───────┼───────\n",
      "8 · · │ · 6 · │ · · 3 \n",
      "4 · · │ 8 · 3 │ · · 1 \n",
      "7 · · │ · 2 · │ · · 6 \n",
      "──────┼───────┼───────\n",
      "· 6 · │ · · · │ 2 8 · \n",
      "· · · │ 4 1 9 │ · · 5 \n",
      "· · · │ · 8 · │ · 7 9 \n",
      "Values: 30 (initial) \n",
      "\n",
      "5 3 · │ · 7 · │ · · · \n",
      "6 · · │ 1 9 5 │ · · · \n",
      "· 9 8 │ · · · │ · 6 · \n",
      "──────┼───────┼───────\n",
      "8 · · │ · 6 · │ · · 3 \n",
      "4 · · │ 8 5 3 │ · · 1 \n",
      "7 · · │ 9 2 · │ · · 6 \n",
      "──────┼───────┼───────\n",
      "· 6 · │ · 3 7 │ 2 8 4 \n",
      "· · · │ 4 1 9 │ · 3 5 \n",
      "· · · │ · 8 · │ · 7 9 \n",
      "Values: 36 (+6) \n",
      "\n",
      "5 3 · │ · 7 · │ · · · \n",
      "6 · · │ 1 9 5 │ · · · \n",
      "· 9 8 │ · 4 2 │ · 6 7 \n",
      "──────┼───────┼───────\n",
      "8 · · │ 7 6 · │ · · 3 \n",
      "4 2 · │ 8 5 3 │ · 9 1 \n",
      "7 · · │ 9 2 · │ · · 6 \n",
      "──────┼───────┼───────\n",
      "· 6 · │ 5 3 7 │ 2 8 4 \n",
      "2 · 7 │ 4 1 9 │ 6 3 5 \n",
      "· · · │ · 8 6 │ 1 7 9 \n",
      "Values: 48 (+12) \n",
      "\n",
      "5 3 · │ 6 7 8 │ · · 2 \n",
      "6 · · │ 1 9 5 │ · 4 8 \n",
      "1 9 8 │ 3 4 2 │ 5 6 7 \n",
      "──────┼───────┼───────\n",
      "8 · · │ 7 6 · │ 4 · 3 \n",
      "4 2 6 │ 8 5 3 │ 7 9 1 \n",
      "7 · · │ 9 2 · │ 8 5 6 \n",
      "──────┼───────┼───────\n",
      "9 6 1 │ 5 3 7 │ 2 8 4 \n",
      "2 8 7 │ 4 1 9 │ 6 3 5 \n",
      "3 · · │ 2 8 6 │ 1 7 9 \n",
      "Values: 66 (+18) \n",
      "\n",
      "5 3 4 │ 6 7 8 │ 9 1 2 \n",
      "6 7 2 │ 1 9 5 │ 3 4 8 \n",
      "1 9 8 │ 3 4 2 │ 5 6 7 \n",
      "──────┼───────┼───────\n",
      "8 · · │ 7 6 1 │ 4 2 3 \n",
      "4 2 6 │ 8 5 3 │ 7 9 1 \n",
      "7 1 3 │ 9 2 4 │ 8 5 6 \n",
      "──────┼───────┼───────\n",
      "9 6 1 │ 5 3 7 │ 2 8 4 \n",
      "2 8 7 │ 4 1 9 │ 6 3 5 \n",
      "3 · 5 │ 2 8 6 │ 1 7 9 \n",
      "Values: 78 (+12) \n",
      "\n",
      "5 3 4 │ 6 7 8 │ 9 1 2 \n",
      "6 7 2 │ 1 9 5 │ 3 4 8 \n",
      "1 9 8 │ 3 4 2 │ 5 6 7 \n",
      "──────┼───────┼───────\n",
      "8 5 9 │ 7 6 1 │ 4 2 3 \n",
      "4 2 6 │ 8 5 3 │ 7 9 1 \n",
      "7 1 3 │ 9 2 4 │ 8 5 6 \n",
      "──────┼───────┼───────\n",
      "9 6 1 │ 5 3 7 │ 2 8 4 \n",
      "2 8 7 │ 4 1 9 │ 6 3 5 \n",
      "3 4 5 │ 2 8 6 │ 1 7 9 \n",
      "Values: 81 (+3) \n",
      "\n"
     ]
    }
   ],
   "source": [
    "grid11 = copy.deepcopy(empty_grid)  # to store lists of possible values\n",
    "grid12 = copy.deepcopy(grid1)       # to store solution\n",
    "draw(grid1)\n",
    "counter = 30\n",
    "print(f\"Values: {counter} (initial)\", \"\\n\")\n",
    "while counter < 81:\n",
    "    previous = counter\n",
    "    counter = 0\n",
    "    for r in range(9):\n",
    "        for c in range(9):\n",
    "            values = fit(grid12, r+1, c+1)\n",
    "            grid11[r][c] = values\n",
    "            if len(values) == 1:\n",
    "                grid12[r][c] = values\n",
    "                counter += 1\n",
    "    draw(grid12)\n",
    "    print(f\"Values: {counter} (+{counter-previous})\", \"\\n\")"
   ]
  },
  {
   "cell_type": "markdown",
   "metadata": {},
   "source": [
    "---"
   ]
  },
  {
   "cell_type": "markdown",
   "metadata": {},
   "source": [
    "## Fitness function\n",
    "Sum of number of unique numbers in each row, column and box. Minimum fitness is 27 (all numbers are the same), maximum (target) fitness is 243."
   ]
  },
  {
   "cell_type": "code",
   "execution_count": 16,
   "metadata": {},
   "outputs": [
    {
     "name": "stdout",
     "output_type": "stream",
     "text": [
      "1 1 1 │ 1 1 1 │ 1 1 1 \n",
      "1 1 1 │ 2 3 2 │ 1 2 1 \n",
      "1 2 1 │ 1 1 1 │ 1 5 1 \n",
      "──────┼───────┼───────\n",
      "1 1 1 │ 1 1 1 │ 1 1 1 \n",
      "1 1 1 │ 1 1 1 │ 1 2 1 \n",
      "1 1 1 │ 1 1 5 │ 1 5 3 \n",
      "──────┼───────┼───────\n",
      "1 1 1 │ 1 1 1 │ 1 1 1 \n",
      "1 1 1 │ 1 1 1 │ 1 1 1 \n",
      "1 1 7 │ 1 1 1 │ 1 1 1 \n"
     ]
    }
   ],
   "source": [
    "grid0 = [[[1] for i in range(9)] for j in range(9)]\n",
    "grid0[1][5] = [2]\n",
    "grid0[2][1] = [2]\n",
    "grid0[1][4] = [3]\n",
    "grid0[5][5] = [5]\n",
    "grid0[5][8] = [3]\n",
    "grid0[4][7] = [2]\n",
    "grid0[8][2] = [7]\n",
    "grid0[1][3] = [2]\n",
    "grid0[1][7] = [2]\n",
    "grid0[5][7] = [5]\n",
    "grid0[2][7] = [5]\n",
    "draw(grid0)"
   ]
  },
  {
   "cell_type": "code",
   "execution_count": 17,
   "metadata": {},
   "outputs": [
    {
     "name": "stdout",
     "output_type": "stream",
     "text": [
      "Number of unique values in each row [1, 3, 3, 1, 2, 3, 1, 1, 2]\n",
      "Row fitness 17\n"
     ]
    }
   ],
   "source": [
    "matrix = [[grid0[row][column][0] for column in range(9)] for row in range(9)]\n",
    "print(f\"Number of unique values in each row {[len(set(matrix[row])) for row in range(9)]}\")\n",
    "print(f\"Row fitness {sum([len(set(matrix[row])) for row in range(9)])}\")"
   ]
  },
  {
   "cell_type": "code",
   "execution_count": 18,
   "metadata": {},
   "outputs": [
    {
     "name": "stdout",
     "output_type": "stream",
     "text": [
      "Number of unique values in each column [1, 2, 2, 2, 2, 3, 1, 3, 2]\n",
      "Column fitness 18\n"
     ]
    }
   ],
   "source": [
    "matrix = [[grid0[row][column][0] for column in range(9)] for row in range(9)]\n",
    "print(f\"Number of unique values in each column {[len(set([row[col] for row in matrix])) for col in range(9)]}\")\n",
    "print(f\"Column fitness {sum([len(set([row[col] for row in matrix])) for col in range(9)])}\")"
   ]
  },
  {
   "cell_type": "code",
   "execution_count": 19,
   "metadata": {},
   "outputs": [
    {
     "name": "stdout",
     "output_type": "stream",
     "text": [
      "Number of unique values in each box [2, 3, 3, 1, 2, 4, 2, 1, 1]\n",
      "Box fitness 19\n"
     ]
    }
   ],
   "source": [
    "matrix = [[grid0[row][column][0] for column in range(9)] for row in range(9)]\n",
    "box_rows = [matrix[brow*3:brow*3+3] for brow in range(3)]\n",
    "boxes = [[[row[bcol*3:bcol*3+3] for row in box_rows[br]] for bcol in range(3)] for br in range(3)]\n",
    "boxes_flattish = [item for sublist in boxes for item in sublist] \n",
    "print(f\"Number of unique values in each box {[len(set([item for sublist in row for item in sublist])) for row in boxes_flattish]}\")\n",
    "print(f\"Box fitness {sum([len(set([item for sublist in row for item in sublist])) for row in boxes_flattish])}\")"
   ]
  },
  {
   "cell_type": "code",
   "execution_count": 20,
   "metadata": {},
   "outputs": [],
   "source": [
    "def fitness(grid):\n",
    "    matrix = [[grid[row][column][0] for column in range(9)] for row in range(9)]\n",
    "    row_fitness = sum([len(set(matrix[row])) for row in range(9)])\n",
    "    column_fitness = sum([len(set([row[col] for row in matrix])) for col in range(9)])\n",
    "    box_rows = [matrix[brow*3:brow*3+3] for brow in range(3)]\n",
    "    boxes = [[[row[bcol*3:bcol*3+3] for row in box_rows[br]] for bcol in range(3)] for br in range(3)]\n",
    "    boxes_flattish = [item for sublist in boxes for item in sublist] \n",
    "    box_fitness = sum([len(set([item for sublist in row for item in sublist])) for row in boxes_flattish])\n",
    "    \n",
    "    return row_fitness + column_fitness + box_fitness"
   ]
  },
  {
   "cell_type": "code",
   "execution_count": 21,
   "metadata": {},
   "outputs": [
    {
     "data": {
      "text/plain": [
       "54"
      ]
     },
     "execution_count": 21,
     "metadata": {},
     "output_type": "execute_result"
    }
   ],
   "source": [
    "fitness(grid0)"
   ]
  },
  {
   "cell_type": "code",
   "execution_count": 22,
   "metadata": {},
   "outputs": [
    {
     "data": {
      "text/plain": [
       "243"
      ]
     },
     "execution_count": 22,
     "metadata": {},
     "output_type": "execute_result"
    }
   ],
   "source": [
    "fitness(grid12)"
   ]
  },
  {
   "cell_type": "code",
   "execution_count": null,
   "metadata": {},
   "outputs": [],
   "source": []
  }
 ],
 "metadata": {
  "kernelspec": {
   "display_name": "Python 3",
   "language": "python",
   "name": "python3"
  },
  "language_info": {
   "codemirror_mode": {
    "name": "ipython",
    "version": 3
   },
   "file_extension": ".py",
   "mimetype": "text/x-python",
   "name": "python",
   "nbconvert_exporter": "python",
   "pygments_lexer": "ipython3",
   "version": "3.8.5"
  }
 },
 "nbformat": 4,
 "nbformat_minor": 4
}
